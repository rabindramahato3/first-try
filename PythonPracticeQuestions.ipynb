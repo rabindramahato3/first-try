{
  "nbformat": 4,
  "nbformat_minor": 0,
  "metadata": {
    "colab": {
      "name": "PythonPracticeQuestions.ipynb",
      "provenance": [],
      "collapsed_sections": [
        "Vijea1KJT9Ib",
        "2Av_OWHhTyTR"
      ],
      "authorship_tag": "ABX9TyONo2EUhXrp6zppETcGMPg8",
      "include_colab_link": true
    },
    "kernelspec": {
      "name": "python3",
      "display_name": "Python 3"
    },
    "language_info": {
      "name": "python"
    }
  },
  "cells": [
    {
      "cell_type": "markdown",
      "metadata": {
        "id": "view-in-github",
        "colab_type": "text"
      },
      "source": [
        "<a href=\"https://colab.research.google.com/github/rabindramahato3/first-try/blob/master/PythonPracticeQuestions.ipynb\" target=\"_parent\"><img src=\"https://colab.research.google.com/assets/colab-badge.svg\" alt=\"Open In Colab\"/></a>"
      ]
    },
    {
      "cell_type": "markdown",
      "metadata": {
        "id": "Vijea1KJT9Ib"
      },
      "source": [
        "# Problem 1 : **Write a function that inputs a number and prints the multiplication table of that number**"
      ]
    },
    {
      "cell_type": "code",
      "metadata": {
        "colab": {
          "base_uri": "https://localhost:8080/"
        },
        "id": "spkKrymn9vB_",
        "outputId": "cab77cf1-04ac-4d69-9c26-b3cfc2e71db9"
      },
      "source": [
        "# Function that inputs a number and prints the multiplication table of that number.\n",
        "\n",
        "\n",
        "def mul_table():\n",
        "  \"\"\"\n",
        "  Function to input a number and print multiplication table of the number.\n",
        "  \"\"\"\n",
        "\n",
        "  # Taking a number as input\n",
        "  num = int(input(\"Enter a number : \"))\n",
        "\n",
        "  print('\\n   Multiplication Table of {} is : \\n'.format(num))\n",
        "  \n",
        "  # loop for printing the multiplication table\n",
        "  for i in range(1, 11):\n",
        "    print('{0} x {1} = {2}'.format( num, i, num*i))\n",
        "\n",
        "# calling mul_table() function\n",
        "mul_table()"
      ],
      "execution_count": 13,
      "outputs": [
        {
          "output_type": "stream",
          "text": [
            "Enter a number : 3\n",
            "\n",
            "   Multiplication Table of 3 is : \n",
            "\n",
            "3 x 1 = 3\n",
            "3 x 2 = 6\n",
            "3 x 3 = 9\n",
            "3 x 4 = 12\n",
            "3 x 5 = 15\n",
            "3 x 6 = 18\n",
            "3 x 7 = 21\n",
            "3 x 8 = 24\n",
            "3 x 9 = 27\n",
            "3 x 10 = 30\n"
          ],
          "name": "stdout"
        }
      ]
    },
    {
      "cell_type": "markdown",
      "metadata": {
        "id": "2Av_OWHhTyTR"
      },
      "source": [
        "# Problem 2 : **Write a program to print twin primes less than 1000. If two consecutive odd numbers are both prime then they are known as twin primes.**"
      ]
    },
    {
      "cell_type": "code",
      "metadata": {
        "colab": {
          "base_uri": "https://localhost:8080/"
        },
        "id": "pg8kJnujIlmC",
        "outputId": "12e0b8b3-3876-402d-9fa4-75084d04a46b"
      },
      "source": [
        "# Print twin primes less than 1000\n",
        "\n",
        "def check_prime(num):\n",
        "  \"\"\"\n",
        "    Function to Check Whether a number is prime or not\n",
        "  \"\"\"\n",
        "\n",
        "  # a flag variable\n",
        "  flag = False\n",
        "\n",
        "  if num > 1 :\n",
        "    for i in range (2, num):\n",
        "      if (num % i) == 0:\n",
        "        flag = True\n",
        "        break\n",
        "  return flag\n",
        "\n",
        "\n",
        "\n",
        "def twin_primes():\n",
        "  \"\"\"\n",
        "    Function to print thetwin primes less than 1000\n",
        "  \"\"\"\n",
        "  # taking odd numbers less than 1000\n",
        "  for num in range(1, 1000, 2):\n",
        "    # taking numbers except 1\n",
        "    if (num > 1): \n",
        "      # check whether number is prime or not\n",
        "      if check_prime(num): \n",
        "        # not prime the continue with next number\n",
        "        continue\n",
        "      # check whether next consecutive odd number is prime or not\n",
        "      elif check_prime(num + 2):\n",
        "        continue\n",
        "      else:\n",
        "          # when consecutive odd numbers are prime, print them\n",
        "          print('({},{})'.format(num, num+2))\n",
        "\n",
        "# calling the functions\n",
        "print('\\n Twin Primes less than 1000 : \\n')\n",
        "twin_primes()"
      ],
      "execution_count": 47,
      "outputs": [
        {
          "output_type": "stream",
          "text": [
            "\n",
            " Twin Primes less than 1000 : \n",
            "\n",
            "(3,5)\n",
            "(5,7)\n",
            "(11,13)\n",
            "(17,19)\n",
            "(29,31)\n",
            "(41,43)\n",
            "(59,61)\n",
            "(71,73)\n",
            "(101,103)\n",
            "(107,109)\n",
            "(137,139)\n",
            "(149,151)\n",
            "(179,181)\n",
            "(191,193)\n",
            "(197,199)\n",
            "(227,229)\n",
            "(239,241)\n",
            "(269,271)\n",
            "(281,283)\n",
            "(311,313)\n",
            "(347,349)\n",
            "(419,421)\n",
            "(431,433)\n",
            "(461,463)\n",
            "(521,523)\n",
            "(569,571)\n",
            "(599,601)\n",
            "(617,619)\n",
            "(641,643)\n",
            "(659,661)\n",
            "(809,811)\n",
            "(821,823)\n",
            "(827,829)\n",
            "(857,859)\n",
            "(881,883)\n"
          ],
          "name": "stdout"
        }
      ]
    },
    {
      "cell_type": "markdown",
      "metadata": {
        "id": "EKzjOVioUFTp"
      },
      "source": [
        "# Problem 3 : **Write a program to find out the prime factors of a number. Example: prime factors of 56 - 2, 2, 2, 7**"
      ]
    },
    {
      "cell_type": "code",
      "metadata": {
        "id": "3FKgIaBFUSCp"
      },
      "source": [
        ""
      ],
      "execution_count": null,
      "outputs": []
    }
  ]
}